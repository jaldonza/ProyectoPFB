{
 "cells": [
  {
   "cell_type": "code",
   "execution_count": 6,
   "metadata": {},
   "outputs": [],
   "source": [
    "from datetime import datetime"
   ]
  },
  {
   "cell_type": "code",
   "execution_count": 1,
   "metadata": {},
   "outputs": [],
   "source": [
    "\n",
    "import mysql.connector\n",
    "import pandas as pd\n",
    "\n",
    "def calcular_roi(simbolo, fecha_inicio, fecha_fin):\n",
    "    # Conexión a la base de datos\n",
    "    db_connection = mysql.connector.connect(\n",
    "        host=\"127.0.0.1\",\n",
    "        user=\"root\",  # Cambia por tu usuario de MySQL\n",
    "        password=\"11jablum11\",  # Cambia por tu contraseña de MySQL\n",
    "        database=\"yfinance\"\n",
    "    )\n",
    "    cursor = db_connection.cursor()\n",
    "\n",
    "\n",
    "\n",
    "    # Consulta SQL para obtener el precio inicial y final en el periodo\n",
    "    query = \"\"\"\n",
    "    SELECT fecha, precio_cierre\n",
    "    FROM precios_historicos\n",
    "    WHERE id_empresa = (SELECT id_empresa FROM empresas_sp500 WHERE simbolo = %s)\n",
    "      AND fecha BETWEEN %s AND %s\n",
    "    ORDER BY fecha ASC;\n",
    "    \"\"\"\n",
    "    \n",
    "    cursor.execute(query, (simbolo, fecha_inicio, fecha_fin))\n",
    "    precios = cursor.fetchall()\n",
    "    \n",
    "    # Cerrar conexión\n",
    "    cursor.close()\n",
    "    db_connection.close()\n",
    "\n",
    "    # Verifica si se obtuvieron precios en el rango de fechas\n",
    "    if len(precios) < 2:\n",
    "        st.warning(\"No se encontraron datos suficientes en el rango de fechas seleccionado.\")\n",
    "        return None\n",
    "\n",
    "    # Precio inicial y final\n",
    "    precio_inicial = precios[0][1]\n",
    "    precio_final = precios[-1][1]\n",
    "    \n",
    "    # Calcular ROI\n",
    "    roi = (precio_final - precio_inicial) / precio_inicial * 100\n",
    "\n",
    "    return roi, pd.DataFrame(precios, columns=['Fecha', 'Precio Cierre'])\n",
    "\n",
    "### Paso 2: Crear la Interfaz de Streamlit\n",
    "\n"
   ]
  },
  {
   "cell_type": "code",
   "execution_count": 18,
   "metadata": {},
   "outputs": [
    {
     "name": "stdout",
     "output_type": "stream",
     "text": [
      "ROI Total para MMM desde 2000-01-01 hasta 2023-12-31: 348.24%\n",
      "\n",
      "Precios en el periodo:\n",
      "           Fecha  Precio Cierre\n",
      "0     2000-01-03        19.8138\n",
      "1     2000-01-04        19.0265\n",
      "2     2000-01-05        19.5776\n",
      "3     2000-01-06        21.1523\n",
      "4     2000-01-07        21.5721\n",
      "...          ...            ...\n",
      "6032  2023-12-22        86.3833\n",
      "6033  2023-12-26        87.8293\n",
      "6034  2023-12-27        88.3412\n",
      "6035  2023-12-28        89.1130\n",
      "6036  2023-12-29        88.8124\n",
      "\n",
      "[6037 rows x 2 columns]\n"
     ]
    }
   ],
   "source": [
    "simbolo = \"MMM\"  # El símbolo de la acción a consultar\n",
    "fecha_inicio = datetime(2000, 1, 1)  # Fecha de inicio del periodo\n",
    "fecha_fin = datetime(2023, 12, 31)   # Fecha de fin del periodo\n",
    "\n",
    "# Llamar a la función y capturar los resultados\n",
    "roi, precios_df = calcular_roi(simbolo, fecha_inicio, fecha_fin)\n",
    "\n",
    "# Verificar y mostrar el resultado\n",
    "if roi is not None:\n",
    "    print(f\"ROI Total para {simbolo} desde {fecha_inicio.date()} hasta {fecha_fin.date()}: {roi:.2f}%\")\n",
    "    print(\"\\nPrecios en el periodo:\")\n",
    "    print(precios_df)\n",
    "else:\n",
    "    print(\"No se encontraron datos suficientes para calcular el ROI en el rango de fechas seleccionado.\")\n"
   ]
  }
 ],
 "metadata": {
  "kernelspec": {
   "display_name": ".venv",
   "language": "python",
   "name": "python3"
  },
  "language_info": {
   "codemirror_mode": {
    "name": "ipython",
    "version": 3
   },
   "file_extension": ".py",
   "mimetype": "text/x-python",
   "name": "python",
   "nbconvert_exporter": "python",
   "pygments_lexer": "ipython3",
   "version": "3.12.3"
  }
 },
 "nbformat": 4,
 "nbformat_minor": 2
}
