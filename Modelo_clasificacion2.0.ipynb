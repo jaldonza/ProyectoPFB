{
 "cells": [
  {
   "cell_type": "code",
   "execution_count": 2,
   "metadata": {},
   "outputs": [
    {
     "name": "stdout",
     "output_type": "stream",
     "text": [
      "Collecting scikit-learn\n",
      "  Using cached scikit_learn-1.5.2-cp312-cp312-win_amd64.whl.metadata (13 kB)\n",
      "Requirement already satisfied: numpy>=1.19.5 in c:\\users\\rober\\appdata\\local\\programs\\python\\python312\\lib\\site-packages (from scikit-learn) (1.26.4)\n",
      "Collecting scipy>=1.6.0 (from scikit-learn)\n",
      "  Using cached scipy-1.14.1-cp312-cp312-win_amd64.whl.metadata (60 kB)\n",
      "Collecting joblib>=1.2.0 (from scikit-learn)\n",
      "  Using cached joblib-1.4.2-py3-none-any.whl.metadata (5.4 kB)\n",
      "Collecting threadpoolctl>=3.1.0 (from scikit-learn)\n",
      "  Using cached threadpoolctl-3.5.0-py3-none-any.whl.metadata (13 kB)\n",
      "Using cached scikit_learn-1.5.2-cp312-cp312-win_amd64.whl (11.0 MB)\n",
      "Using cached joblib-1.4.2-py3-none-any.whl (301 kB)\n",
      "Using cached scipy-1.14.1-cp312-cp312-win_amd64.whl (44.5 MB)\n",
      "Using cached threadpoolctl-3.5.0-py3-none-any.whl (18 kB)\n",
      "Installing collected packages: threadpoolctl, scipy, joblib, scikit-learn\n",
      "Successfully installed joblib-1.4.2 scikit-learn-1.5.2 scipy-1.14.1 threadpoolctl-3.5.0\n",
      "Note: you may need to restart the kernel to use updated packages.\n"
     ]
    },
    {
     "name": "stderr",
     "output_type": "stream",
     "text": [
      "\n",
      "[notice] A new release of pip is available: 24.0 -> 24.3.1\n",
      "[notice] To update, run: python.exe -m pip install --upgrade pip\n"
     ]
    }
   ],
   "source": [
    "%pip install scikit-learn"
   ]
  },
  {
   "cell_type": "code",
   "execution_count": 2,
   "metadata": {},
   "outputs": [],
   "source": [
    "import pandas as pd\n",
    "import numpy as np\n",
    "from sklearn.model_selection import train_test_split\n",
    "from sklearn.ensemble import RandomForestClassifier\n",
    "from sklearn.metrics import classification_report, confusion_matrix\n",
    "from sklearn.cluster import KMeans\n",
    "from sklearn.preprocessing import LabelEncoder, OneHotEncoder\n",
    "import mysql.connector"
   ]
  },
  {
   "cell_type": "code",
   "execution_count": 3,
   "metadata": {},
   "outputs": [
    {
     "name": "stderr",
     "output_type": "stream",
     "text": [
      "C:\\Users\\Rober\\AppData\\Local\\Temp\\ipykernel_7132\\462899246.py:11: UserWarning: pandas only supports SQLAlchemy connectable (engine/connection) or database string URI or sqlite3 DBAPI2 connection. Other DBAPI2 objects are not tested. Please consider using SQLAlchemy.\n",
      "  df = pd.read_sql(query, conexion)\n"
     ]
    }
   ],
   "source": [
    "# Conexión a la base de datos\n",
    "conexion = mysql.connector.connect(\n",
    "    host=\"127.0.0.1\",\n",
    "    user=\"root\",  \n",
    "    password=\"Mysql123\",\n",
    "    database=\"yfinance\"  \n",
    ")\n",
    "\n",
    "# Carga de datos desde una consulta SQL a un DataFrame\n",
    "query = \"SELECT precios_historicos.precio_apertura,precios_historicos.precio_cierre,precios_historicos.maximo,precios_historicos.minimo,precios_historicos.volumen,empresas_sp500.sector,empresas_sp500.industria FROM precios_historicos INNER JOIN empresas_sp500 ON precios_historicos.id_empresa = empresas_sp500.id_empresa;\"\n",
    "df = pd.read_sql(query, conexion)\n",
    "\n",
    "\n",
    "\n"
   ]
  },
  {
   "cell_type": "code",
   "execution_count": 16,
   "metadata": {},
   "outputs": [
    {
     "name": "stderr",
     "output_type": "stream",
     "text": [
      "C:\\Users\\Rober\\AppData\\Local\\Temp\\ipykernel_7132\\2941051003.py:8: UserWarning: pandas only supports SQLAlchemy connectable (engine/connection) or database string URI or sqlite3 DBAPI2 connection. Other DBAPI2 objects are not tested. Please consider using SQLAlchemy.\n",
      "  empresas_df = pd.read_sql(query, conexion)\n"
     ]
    },
    {
     "data": {
      "text/html": [
       "<div>\n",
       "<style scoped>\n",
       "    .dataframe tbody tr th:only-of-type {\n",
       "        vertical-align: middle;\n",
       "    }\n",
       "\n",
       "    .dataframe tbody tr th {\n",
       "        vertical-align: top;\n",
       "    }\n",
       "\n",
       "    .dataframe thead th {\n",
       "        text-align: right;\n",
       "    }\n",
       "</style>\n",
       "<table border=\"1\" class=\"dataframe\">\n",
       "  <thead>\n",
       "    <tr style=\"text-align: right;\">\n",
       "      <th></th>\n",
       "      <th>precio_apertura</th>\n",
       "      <th>precio_cierre</th>\n",
       "      <th>maximo</th>\n",
       "      <th>minimo</th>\n",
       "      <th>volumen</th>\n",
       "      <th>sector</th>\n",
       "      <th>industria</th>\n",
       "    </tr>\n",
       "  </thead>\n",
       "  <tbody>\n",
       "    <tr>\n",
       "      <th>0</th>\n",
       "      <td>20.1681</td>\n",
       "      <td>19.8138</td>\n",
       "      <td>20.2600</td>\n",
       "      <td>19.7482</td>\n",
       "      <td>2599386</td>\n",
       "      <td>Industrials</td>\n",
       "      <td>Industrial Conglomerates</td>\n",
       "    </tr>\n",
       "    <tr>\n",
       "      <th>1</th>\n",
       "      <td>19.4989</td>\n",
       "      <td>19.0265</td>\n",
       "      <td>19.9057</td>\n",
       "      <td>19.0265</td>\n",
       "      <td>3245705</td>\n",
       "      <td>Industrials</td>\n",
       "      <td>Industrial Conglomerates</td>\n",
       "    </tr>\n",
       "    <tr>\n",
       "      <th>2</th>\n",
       "      <td>19.1315</td>\n",
       "      <td>19.5776</td>\n",
       "      <td>20.2075</td>\n",
       "      <td>19.1315</td>\n",
       "      <td>4424482</td>\n",
       "      <td>Industrials</td>\n",
       "      <td>Industrial Conglomerates</td>\n",
       "    </tr>\n",
       "    <tr>\n",
       "      <th>3</th>\n",
       "      <td>19.8007</td>\n",
       "      <td>21.1523</td>\n",
       "      <td>21.5197</td>\n",
       "      <td>19.8007</td>\n",
       "      <td>7147057</td>\n",
       "      <td>Industrials</td>\n",
       "      <td>Industrial Conglomerates</td>\n",
       "    </tr>\n",
       "    <tr>\n",
       "      <th>4</th>\n",
       "      <td>21.2310</td>\n",
       "      <td>21.5721</td>\n",
       "      <td>21.7952</td>\n",
       "      <td>20.9817</td>\n",
       "      <td>4905035</td>\n",
       "      <td>Industrials</td>\n",
       "      <td>Industrial Conglomerates</td>\n",
       "    </tr>\n",
       "  </tbody>\n",
       "</table>\n",
       "</div>"
      ],
      "text/plain": [
       "   precio_apertura  precio_cierre   maximo   minimo  volumen       sector  \\\n",
       "0          20.1681        19.8138  20.2600  19.7482  2599386  Industrials   \n",
       "1          19.4989        19.0265  19.9057  19.0265  3245705  Industrials   \n",
       "2          19.1315        19.5776  20.2075  19.1315  4424482  Industrials   \n",
       "3          19.8007        21.1523  21.5197  19.8007  7147057  Industrials   \n",
       "4          21.2310        21.5721  21.7952  20.9817  4905035  Industrials   \n",
       "\n",
       "                  industria  \n",
       "0  Industrial Conglomerates  \n",
       "1  Industrial Conglomerates  \n",
       "2  Industrial Conglomerates  \n",
       "3  Industrial Conglomerates  \n",
       "4  Industrial Conglomerates  "
      ]
     },
     "execution_count": 16,
     "metadata": {},
     "output_type": "execute_result"
    }
   ],
   "source": [
    "conexion = mysql.connector.connect(\n",
    "    host=\"127.0.0.1\",\n",
    "    user=\"root\",  \n",
    "    password=\"Mysql123\",\n",
    "    database=\"yfinance\")\n",
    "\n",
    "query = \"SELECT precios_historicos.precio_apertura,precios_historicos.precio_cierre,precios_historicos.maximo,precios_historicos.minimo,precios_historicos.volumen,empresas_sp500.sector,empresas_sp500.industria FROM precios_historicos INNER JOIN empresas_sp500 ON precios_historicos.id_empresa = empresas_sp500.id_empresa;\"\n",
    "empresas_df = pd.read_sql(query, conexion)\n",
    "\n",
    "\n",
    "empresas_df.head(5)"
   ]
  },
  {
   "cell_type": "code",
   "execution_count": 17,
   "metadata": {},
   "outputs": [],
   "source": [
    "empresas_df['cluster'] = np.nan"
   ]
  },
  {
   "cell_type": "code",
   "execution_count": null,
   "metadata": {},
   "outputs": [
    {
     "name": "stdout",
     "output_type": "stream",
     "text": [
      "   precio_apertura  precio_cierre   maximo   minimo  volumen       sector  \\\n",
      "0          20.1681        19.8138  20.2600  19.7482  2599386  Industrials   \n",
      "1          19.4989        19.0265  19.9057  19.0265  3245705  Industrials   \n",
      "2          19.1315        19.5776  20.2075  19.1315  4424482  Industrials   \n",
      "3          19.8007        21.1523  21.5197  19.8007  7147057  Industrials   \n",
      "4          21.2310        21.5721  21.7952  20.9817  4905035  Industrials   \n",
      "\n",
      "                  industria  \n",
      "0  Industrial Conglomerates  \n",
      "1  Industrial Conglomerates  \n",
      "2  Industrial Conglomerates  \n",
      "3  Industrial Conglomerates  \n",
      "4  Industrial Conglomerates  \n"
     ]
    }
   ],
   "source": [
    "# Simular datos de ejemplo\n",
    "np.random.seed(42)\n",
    "\n",
    "empresas_df = pd.DataFrame(empresas_df, columns=['precio_apertura', 'precio_cierre', 'maximo', 'minimo', 'volumen'])\n",
    "x = empresas_df[['precio_apertura','precio_cierre','maximo','minimo','volumen']]\n",
    "\n",
    "\n",
    "# Ejecutar K-Means para agrupar las acciones\n",
    "kmeans = KMeans(n_clusters=5, random_state=42)\n",
    "y = kmeans.fit_predict(x)\n",
    "empresas_df['Cluster'] = y\n",
    "\n",
    "\n",
    "print(df.head())  # Visualizar las características y el cluster asignado\n",
    "\n",
    "conexion.close()"
   ]
  },
  {
   "cell_type": "code",
   "execution_count": null,
   "metadata": {},
   "outputs": [],
   "source": []
  },
  {
   "cell_type": "code",
   "execution_count": 22,
   "metadata": {},
   "outputs": [
    {
     "name": "stdout",
     "output_type": "stream",
     "text": [
      "Datos preparados:\n",
      "Tamaño de X_train: (2205567, 5), X_test: (551392, 5)\n",
      "Tamaño de y_train: (2205567,), y_test: (551392,)\n"
     ]
    }
   ],
   "source": [
    "#convertir Y en unidimensional#\n",
    "y = empresas_df['Cluster'].values.ravel()\n",
    "\n",
    "# Dividir el conjunto de datos en entrenamiento y prueba (80% entrenamiento, 20% prueba)\n",
    "X_train, X_test, y_train, y_test = train_test_split(x, y, test_size=0.2, random_state=42)\n",
    "\n",
    "print(\"Datos preparados:\")\n",
    "print(f\"Tamaño de X_train: {X_train.shape}, X_test: {X_test.shape}\")\n",
    "print(f\"Tamaño de y_train: {y_train.shape}, y_test: {y_test.shape}\")"
   ]
  },
  {
   "cell_type": "code",
   "execution_count": null,
   "metadata": {},
   "outputs": [],
   "source": []
  },
  {
   "cell_type": "code",
   "execution_count": 23,
   "metadata": {},
   "outputs": [
    {
     "name": "stdout",
     "output_type": "stream",
     "text": [
      "(2756959,)\n"
     ]
    }
   ],
   "source": [
    "print(y.shape)"
   ]
  },
  {
   "cell_type": "code",
   "execution_count": 25,
   "metadata": {},
   "outputs": [
    {
     "name": "stderr",
     "output_type": "stream",
     "text": [
      "c:\\Users\\Rober\\AppData\\Local\\Programs\\Python\\Python312\\Lib\\site-packages\\sklearn\\base.py:493: UserWarning: X does not have valid feature names, but RandomForestClassifier was fitted with feature names\n",
      "  warnings.warn(\n"
     ]
    },
    {
     "name": "stdout",
     "output_type": "stream",
     "text": [
      "Dimensiones de y_test: (551392,)\n",
      "Dimensiones de y_pred: (551392,)\n",
      "Matriz de Confusión:\n",
      "[[     0      0      0   9357      0]\n",
      " [     0      0      0    575      0]\n",
      " [     0      0      0   1593      0]\n",
      " [     0      0      0 539784      0]\n",
      " [     0      0      0     83      0]]\n",
      "\n",
      "Reporte de Clasificación:\n"
     ]
    },
    {
     "name": "stderr",
     "output_type": "stream",
     "text": [
      "c:\\Users\\Rober\\AppData\\Local\\Programs\\Python\\Python312\\Lib\\site-packages\\sklearn\\metrics\\_classification.py:1531: UndefinedMetricWarning: Precision is ill-defined and being set to 0.0 in labels with no predicted samples. Use `zero_division` parameter to control this behavior.\n",
      "  _warn_prf(average, modifier, f\"{metric.capitalize()} is\", len(result))\n"
     ]
    },
    {
     "name": "stdout",
     "output_type": "stream",
     "text": [
      "              precision    recall  f1-score   support\n",
      "\n",
      "           0       0.00      0.00      0.00      9357\n",
      "           1       0.00      0.00      0.00       575\n",
      "           2       0.00      0.00      0.00      1593\n",
      "           3       0.98      1.00      0.99    539784\n",
      "           4       0.00      0.00      0.00        83\n",
      "\n",
      "    accuracy                           0.98    551392\n",
      "   macro avg       0.20      0.20      0.20    551392\n",
      "weighted avg       0.96      0.98      0.97    551392\n",
      "\n"
     ]
    },
    {
     "name": "stderr",
     "output_type": "stream",
     "text": [
      "c:\\Users\\Rober\\AppData\\Local\\Programs\\Python\\Python312\\Lib\\site-packages\\sklearn\\metrics\\_classification.py:1531: UndefinedMetricWarning: Precision is ill-defined and being set to 0.0 in labels with no predicted samples. Use `zero_division` parameter to control this behavior.\n",
      "  _warn_prf(average, modifier, f\"{metric.capitalize()} is\", len(result))\n",
      "c:\\Users\\Rober\\AppData\\Local\\Programs\\Python\\Python312\\Lib\\site-packages\\sklearn\\metrics\\_classification.py:1531: UndefinedMetricWarning: Precision is ill-defined and being set to 0.0 in labels with no predicted samples. Use `zero_division` parameter to control this behavior.\n",
      "  _warn_prf(average, modifier, f\"{metric.capitalize()} is\", len(result))\n"
     ]
    }
   ],
   "source": [
    "from sklearn.decomposition import PCA\n",
    "from sklearn.metrics import confusion_matrix, classification_report\n",
    "import numpy as np\n",
    "\n",
    "# Crear y entrenar el modelo\n",
    "modelo = RandomForestClassifier(n_estimators=20,max_depth=10,max_features= 'sqrt', random_state=42)\n",
    "modelo.fit(X_train, y_train) #Tuve que reducir significativamente los parámetros por motivo de la RAM \n",
    "\n",
    "# Hacer predicciones en los datos de prueba\n",
    "pca = PCA(n_components=5)  # Reduce a 5 componentes principales\n",
    "X_test_reduced = pca.fit_transform(X_test)\n",
    "y_pred = modelo.predict(X_test_reduced)\n",
    "\n",
    "print(\"Dimensiones de y_test:\", y_test.shape)\n",
    "print(\"Dimensiones de y_pred:\", y_pred.shape)\n",
    "\n",
    "# Convertir y_test a un array de NumPy\n",
    "y_test = np.array(y_test).ravel()\n",
    "y_pred = np.array(y_pred).ravel()\n",
    "\n",
    "\n",
    "print(\"Matriz de Confusión:\")\n",
    "print(confusion_matrix(y_test, y_pred))\n",
    "print(\"\\nReporte de Clasificación:\")\n",
    "print(classification_report(y_test, y_pred))\n",
    "\n"
   ]
  }
 ],
 "metadata": {
  "kernelspec": {
   "display_name": "Python 3",
   "language": "python",
   "name": "python3"
  },
  "language_info": {
   "codemirror_mode": {
    "name": "ipython",
    "version": 3
   },
   "file_extension": ".py",
   "mimetype": "text/x-python",
   "name": "python",
   "nbconvert_exporter": "python",
   "pygments_lexer": "ipython3",
   "version": "3.12.2"
  }
 },
 "nbformat": 4,
 "nbformat_minor": 2
}
