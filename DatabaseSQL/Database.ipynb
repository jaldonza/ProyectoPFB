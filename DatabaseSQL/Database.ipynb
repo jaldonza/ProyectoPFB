{
 "cells": [
  {
   "cell_type": "code",
   "execution_count": 1,
   "metadata": {},
   "outputs": [
    {
     "name": "stdout",
     "output_type": "stream",
     "text": [
      "Note: you may need to restart the kernel to use updated packages.Collecting mysql-connector-python\n",
      "  Downloading mysql_connector_python-9.1.0-cp312-cp312-win_amd64.whl.metadata (6.2 kB)\n",
      "Downloading mysql_connector_python-9.1.0-cp312-cp312-win_amd64.whl (16.1 MB)\n",
      "   ---------------------------------------- 0.0/16.1 MB ? eta -:--:--\n",
      "   -- ------------------------------------- 1.0/16.1 MB 7.2 MB/s eta 0:00:03\n",
      "   ------ --------------------------------- 2.6/16.1 MB 7.2 MB/s eta 0:00:02\n",
      "   ---------- ----------------------------- 4.2/16.1 MB 7.2 MB/s eta 0:00:02\n",
      "   -------------- ------------------------- 5.8/16.1 MB 7.5 MB/s eta 0:00:02\n",
      "   ----------------- ---------------------- 7.1/16.1 MB 7.2 MB/s eta 0:00:02\n",
      "   --------------------- ------------------ 8.7/16.1 MB 7.1 MB/s eta 0:00:02\n",
      "   ------------------------- -------------- 10.2/16.1 MB 7.3 MB/s eta 0:00:01\n",
      "   ---------------------------- ----------- 11.3/16.1 MB 6.8 MB/s eta 0:00:01\n",
      "   ------------------------------- -------- 12.8/16.1 MB 6.9 MB/s eta 0:00:01\n",
      "   ----------------------------------- ---- 14.4/16.1 MB 6.9 MB/s eta 0:00:01\n",
      "   -------------------------------------- - 15.5/16.1 MB 7.0 MB/s eta 0:00:01\n",
      "   ---------------------------------------  16.0/16.1 MB 6.5 MB/s eta 0:00:01\n",
      "   ---------------------------------------- 16.1/16.1 MB 6.2 MB/s eta 0:00:00\n",
      "Installing collected packages: mysql-connector-python\n",
      "Successfully installed mysql-connector-python-9.1.0\n",
      "\n"
     ]
    },
    {
     "name": "stderr",
     "output_type": "stream",
     "text": [
      "\n",
      "[notice] A new release of pip is available: 24.2 -> 24.3.1\n",
      "[notice] To update, run: python.exe -m pip install --upgrade pip\n"
     ]
    }
   ],
   "source": [
    "%pip install mysql-connector-python"
   ]
  },
  {
   "cell_type": "code",
   "execution_count": 3,
   "metadata": {},
   "outputs": [],
   "source": [
    "import mysql.connector "
   ]
  },
  {
   "cell_type": "code",
   "execution_count": 7,
   "metadata": {},
   "outputs": [],
   "source": [
    "connection = mysql.connector.connect(\n",
    "    host=\"127.0.0.1\",\n",
    "    user=\"root\",\n",
    "    password=\"Mysql123\",\n",
    "    database=\"yfinance\"\n",
    ")\n",
    "\n",
    "cursor = connection.cursor()\n"
   ]
  },
  {
   "cell_type": "code",
   "execution_count": null,
   "metadata": {},
   "outputs": [
    {
     "data": {
      "text/plain": [
       "<generator object CMySQLCursor._execute_iter at 0x000001354590CC70>"
      ]
     },
     "execution_count": 8,
     "metadata": {},
     "output_type": "execute_result"
    }
   ],
   "source": [
    "empresas_sp500 = \"\"\"\n",
    "CREATE TABLE IF NOT EXISTS empresas_sp500 (\n",
    "                id_empresa INT AUTO_INCREMENT PRIMARY KEY,\n",
    "                simbolo VARCHAR(10) NOT NULL,\n",
    "                nombre_empresa VARCHAR(100),\n",
    "                sector VARCHAR(50),\n",
    "                industria VARCHAR(150),\n",
    "                capitalizacion_mercado FLOAT  );\n",
    "\"\"\"\n",
    "\n",
    "\n",
    "cursor.execute(empresas_sp500, multi=True)"
   ]
  },
  {
   "cell_type": "code",
   "execution_count": 21,
   "metadata": {},
   "outputs": [
    {
     "data": {
      "text/plain": [
       "<generator object CMySQLCursor._execute_iter at 0x0000023C40B1FD30>"
      ]
     },
     "execution_count": 21,
     "metadata": {},
     "output_type": "execute_result"
    }
   ],
   "source": [
    "precios_historicos = \"\"\"\n",
    "CREATE TABLE IF NOT EXISTS precios_historicos (\n",
    "id_precio INT AUTO_INCREMENT PRIMARY KEY,\n",
    "id_empresa INT,\n",
    "fecha DATE,\n",
    "precio_apertura FLOAT,\n",
    "precio_cierre FLOAT,\n",
    "maximo FLOAT,\n",
    "minimo FLOAT,\n",
    "volumen BIGINT);\n",
    "\n",
    "\"\"\"\n",
    "\n",
    "cursor.execute(precios_historicos,multi=True)"
   ]
  },
  {
   "cell_type": "code",
   "execution_count": 23,
   "metadata": {},
   "outputs": [
    {
     "data": {
      "text/plain": [
       "<generator object CMySQLCursor._execute_iter at 0x0000023C40B1FF10>"
      ]
     },
     "execution_count": 23,
     "metadata": {},
     "output_type": "execute_result"
    }
   ],
   "source": [
    "portfolios_usuarios = \"\"\"\n",
    "CREATE TABLE IF NOT EXISTS portafolios_usuarios(\n",
    "id_portafolio INT AUTO_INCREMENT PRIMARY KEY,\n",
    "nombre_portafolio VARCHAR(100),\n",
    "descripcion TEXT);\n",
    "\n",
    "\"\"\"\n",
    "\n",
    "cursor.execute(portfolios_usuarios,multi=True)"
   ]
  },
  {
   "cell_type": "code",
   "execution_count": 24,
   "metadata": {},
   "outputs": [
    {
     "data": {
      "text/plain": [
       "<generator object CMySQLCursor._execute_iter at 0x0000023C40B1FE20>"
      ]
     },
     "execution_count": 24,
     "metadata": {},
     "output_type": "execute_result"
    }
   ],
   "source": [
    "portafolio_empresas = \"\"\"\n",
    "CREATE TABLE IF NOT EXISTS portafolio_empresas(\n",
    "id_portafolio_empresa INT AUTO_INCREMENT PRIMARY KEY,\n",
    "id_portafolio INT,\n",
    "id_empresa INT,\n",
    "cantidad_acciones FLOAT,\n",
    "precio_compra FLOAT);\n",
    "\n",
    "\"\"\"\n",
    "\n",
    "cursor.execute(portafolio_empresas, multi=True)"
   ]
  },
  {
   "cell_type": "code",
   "execution_count": 26,
   "metadata": {},
   "outputs": [
    {
     "data": {
      "text/plain": [
       "<generator object CMySQLCursor._execute_iter at 0x0000023C40B8E7A0>"
      ]
     },
     "execution_count": 26,
     "metadata": {},
     "output_type": "execute_result"
    }
   ],
   "source": [
    "indicadores_sp500 = \"\"\"\n",
    "CREATE TABLE IF NOT EXISTS indicadores_sp500 (\n",
    "id_indicador INT AUTO_INCREMENT PRIMARY KEY,\n",
    "id_empresa INT,\n",
    "fecha DATE,\n",
    "media_movil FLOAT,\n",
    "rsi FLOAT,\n",
    "volatilidad FLOAT);\n",
    "\"\"\"\n",
    "\n",
    "cursor.execute(indicadores_sp500, multi=True)"
   ]
  },
  {
   "cell_type": "code",
   "execution_count": 6,
   "metadata": {},
   "outputs": [],
   "source": [
    "cursor.close()\n",
    "connection.close()"
   ]
  }
 ],
 "metadata": {
  "kernelspec": {
   "display_name": ".venv",
   "language": "python",
   "name": "python3"
  },
  "language_info": {
   "codemirror_mode": {
    "name": "ipython",
    "version": 3
   },
   "file_extension": ".py",
   "mimetype": "text/x-python",
   "name": "python",
   "nbconvert_exporter": "python",
   "pygments_lexer": "ipython3",
   "version": "3.12.2"
  }
 },
 "nbformat": 4,
 "nbformat_minor": 2
}
