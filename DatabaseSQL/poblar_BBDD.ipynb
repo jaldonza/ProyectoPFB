{
 "cells": [
  {
   "cell_type": "code",
   "execution_count": 1,
   "metadata": {},
   "outputs": [],
   "source": [
    "import pandas as pd\n",
    "import mysql.connector"
   ]
  },
  {
   "cell_type": "code",
   "execution_count": 5,
   "metadata": {},
   "outputs": [],
   "source": [
    "# Configuración de la conexión a la base de datos\n",
    "db_connection = mysql.connector.connect(\n",
    "    host=\"127.0.0.1\",\n",
    "    user=\"root\",      # Cambia esto con tu usuario de MySQL\n",
    "    password=\"11jablum11\",  # Cambia esto con tu contraseña de MySQL\n",
    "    database=\"yfinance\"\n",
    ")\n",
    "\n",
    "cursor = db_connection.cursor()"
   ]
  },
  {
   "cell_type": "code",
   "execution_count": 6,
   "metadata": {},
   "outputs": [],
   "source": [
    "# Cargar datos del archivo infoSP500.csv a la tabla empresas_sp500\n",
    "empresas_df = pd.read_csv(\"../Streamlit/infoSP500.csv\")\n",
    "\n",
    "# Iterar sobre cada fila para insertar los datos en la tabla\n",
    "for _, row in empresas_df.iterrows():\n",
    "    cursor.execute(\"\"\"\n",
    "        INSERT INTO empresas_sp500 (simbolo, nombre_empresa, sector, industria)\n",
    "        VALUES (%s, %s, %s, %s)\n",
    "    \"\"\", (row['Symbol'], row['Security'], row['GICS Sector'], row['GICS Sub-Industry']))\n",
    "\n",
    "# Confirmar los cambios\n",
    "db_connection.commit()\n",
    "\n",
    "# Cargar datos del archivo Cotizaciones_historicas_SP_500.csv a la tabla precios_historicos\n",
    "precios_df = pd.read_csv(\"../Streamlit/Cotizaciones_historicas_SP_500.csv\")\n",
    "\n",
    "# Iterar sobre cada fila para insertar los datos en la tabla precios_historicos\n",
    "for _, row in precios_df.iterrows():\n",
    "    cursor.execute(\"\"\"\n",
    "        INSERT INTO precios_historicos (id_empresa, fecha, precio_apertura, precio_cierre, maximo, minimo, volumen)\n",
    "        VALUES (\n",
    "            (SELECT id_empresa FROM empresas_sp500 WHERE simbolo = %s), \n",
    "            %s, %s, %s, %s, %s, %s\n",
    "        )\n",
    "    \"\"\", (row['Symbol'], row['Date'], row['Open'], row['Close'], row['High'], row['Low'], row['Volume']))\n",
    "\n",
    "# Confirmar los cambios\n",
    "db_connection.commit()\n",
    "\n",
    "# Cerrar la conexión a la base de datos\n",
    "cursor.close()\n",
    "db_connection.close()\n"
   ]
  }
 ],
 "metadata": {
  "kernelspec": {
   "display_name": ".venv",
   "language": "python",
   "name": "python3"
  },
  "language_info": {
   "codemirror_mode": {
    "name": "ipython",
    "version": 3
   },
   "file_extension": ".py",
   "mimetype": "text/x-python",
   "name": "python",
   "nbconvert_exporter": "python",
   "pygments_lexer": "ipython3",
   "version": "3.12.3"
  }
 },
 "nbformat": 4,
 "nbformat_minor": 2
}
