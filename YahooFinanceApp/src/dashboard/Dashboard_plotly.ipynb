{
 "cells": [
  {
   "cell_type": "code",
   "execution_count": 3,
   "metadata": {},
   "outputs": [],
   "source": [
    "import pandas as pd\n",
    "import plotly.graph_objects as go\n",
    "from jupyter_dash import JupyterDash\n",
    "from dash import dcc, html\n",
    "from dash.dependencies import Input, Output"
   ]
  },
  {
   "cell_type": "code",
   "execution_count": 6,
   "metadata": {},
   "outputs": [],
   "source": [
    "cotizaciones_df = pd.read_pickle('../etl/Cotizaciones_historicas_SP_500.pkl')"
   ]
  },
  {
   "cell_type": "code",
   "execution_count": 7,
   "metadata": {},
   "outputs": [
    {
     "name": "stderr",
     "output_type": "stream",
     "text": [
      "/Users/javier/Documents/GitHub/ProyectoPFB/.venv/lib/python3.12/site-packages/dash/dash.py:585: UserWarning:\n",
      "\n",
      "JupyterDash is deprecated, use Dash instead.\n",
      "See https://dash.plotly.com/dash-in-jupyter for more details.\n",
      "\n"
     ]
    },
    {
     "data": {
      "text/html": [
       "\n",
       "        <iframe\n",
       "            width=\"100%\"\n",
       "            height=\"650\"\n",
       "            src=\"http://127.0.0.1:8050/\"\n",
       "            frameborder=\"0\"\n",
       "            allowfullscreen\n",
       "            \n",
       "        ></iframe>\n",
       "        "
      ],
      "text/plain": [
       "<IPython.lib.display.IFrame at 0x11ba2f290>"
      ]
     },
     "metadata": {},
     "output_type": "display_data"
    },
    {
     "data": {
      "text/html": [
       "\n",
       "        <iframe\n",
       "            width=\"100%\"\n",
       "            height=\"650\"\n",
       "            src=\"http://127.0.0.1:8050/\"\n",
       "            frameborder=\"0\"\n",
       "            allowfullscreen\n",
       "            \n",
       "        ></iframe>\n",
       "        "
      ],
      "text/plain": [
       "<IPython.lib.display.IFrame at 0x11ba25670>"
      ]
     },
     "metadata": {},
     "output_type": "display_data"
    }
   ],
   "source": [
    "# Inicializar la aplicación Dash\n",
    "app = JupyterDash(__name__)\n",
    "\n",
    "# Agrupamos los datos por empresa para su análisis individual\n",
    "empresas = cotizaciones_df['Company'].unique()\n",
    "\n",
    "# Layout del Dashboard\n",
    "app.layout = html.Div([\n",
    "    html.H1(\"Dashboard Financiero - Datos de Cotización\"),\n",
    "    html.Label(\"Seleccione la empresa:\"),\n",
    "    dcc.Dropdown(\n",
    "        id='empresa-dropdown',\n",
    "        options=[{'label': empresa, 'value': empresa} for empresa in empresas],\n",
    "        value=empresas[0]  # Seleccionar la primera empresa como valor predeterminado\n",
    "    ),\n",
    "    dcc.Tabs([\n",
    "        dcc.Tab(label='Precios Históricos', children=[\n",
    "            dcc.Graph(id='precios-historicos')\n",
    "        ]),\n",
    "        dcc.Tab(label='Medias Móviles', children=[\n",
    "            dcc.Graph(id='medias-moviles')\n",
    "        ]),\n",
    "        dcc.Tab(label='RSI', children=[\n",
    "            dcc.Graph(id='rsi')\n",
    "        ])\n",
    "    ])\n",
    "])\n",
    "\n",
    "# Callback para actualizar Precios Históricos\n",
    "@app.callback(\n",
    "    Output('precios-historicos', 'figure'),\n",
    "    Input('empresa-dropdown', 'value')\n",
    ")\n",
    "def actualizar_precios_historicos(empresa_seleccionada):\n",
    "    # Filtramos los datos para la empresa seleccionada\n",
    "    df = cotizaciones_df[cotizaciones_df['Company'] == empresa_seleccionada]\n",
    "    \n",
    "    fig = go.Figure()\n",
    "    fig.add_trace(go.Scatter(x=df['Date'], y=df['Close'], mode='lines', name='Precio de Cierre'))\n",
    "    fig.update_layout(title=f\"Precios Históricos - {empresa_seleccionada}\", xaxis_title=\"Fecha\", yaxis_title=\"Precio de Cierre\")\n",
    "    return fig\n",
    "\n",
    "# Callback para actualizar Medias Móviles\n",
    "@app.callback(\n",
    "    Output('medias-moviles', 'figure'),\n",
    "    Input('empresa-dropdown', 'value')\n",
    ")\n",
    "def actualizar_medias_moviles(empresa_seleccionada):\n",
    "    # Filtramos los datos para la empresa seleccionada y calculamos las medias móviles\n",
    "    df = cotizaciones_df[cotizaciones_df['Company'] == empresa_seleccionada].copy()\n",
    "    df['SMA_50'] = df['Close'].rolling(window=50).mean()\n",
    "    df['SMA_200'] = df['Close'].rolling(window=200).mean()\n",
    "    \n",
    "    fig = go.Figure()\n",
    "    fig.add_trace(go.Scatter(x=df['Date'], y=df['Close'], mode='lines', name='Precio de Cierre'))\n",
    "    fig.add_trace(go.Scatter(x=df['Date'], y=df['SMA_50'], mode='lines', name='SMA 50'))\n",
    "    fig.add_trace(go.Scatter(x=df['Date'], y=df['SMA_200'], mode='lines', name='SMA 200'))\n",
    "    fig.update_layout(title=f\"Medias Móviles - {empresa_seleccionada}\", xaxis_title=\"Fecha\", yaxis_title=\"Precio\")\n",
    "    return fig\n",
    "\n",
    "# Callback para actualizar RSI\n",
    "@app.callback(\n",
    "    Output('rsi', 'figure'),\n",
    "    Input('empresa-dropdown', 'value')\n",
    ")\n",
    "def actualizar_rsi(empresa_seleccionada):\n",
    "    # Filtramos los datos para la empresa seleccionada y calculamos el RSI\n",
    "    df = cotizaciones_df[cotizaciones_df['Company'] == empresa_seleccionada].copy()\n",
    "    delta = df['Close'].diff()\n",
    "    gain = (delta.where(delta > 0, 0)).rolling(window=14).mean()\n",
    "    loss = (-delta.where(delta < 0, 0)).rolling(window=14).mean()\n",
    "    rs = gain / loss\n",
    "    df['RSI'] = 100 - (100 / (1 + rs))\n",
    "    \n",
    "    fig = go.Figure()\n",
    "    fig.add_trace(go.Scatter(x=df['Date'], y=df['RSI'], mode='lines', name='RSI'))\n",
    "    fig.add_hline(y=70, line_dash=\"dash\", line_color=\"red\", annotation_text=\"Sobrecompra\", annotation_position=\"top right\")\n",
    "    fig.add_hline(y=30, line_dash=\"dash\", line_color=\"green\", annotation_text=\"Sobreventa\", annotation_position=\"bottom right\")\n",
    "    fig.update_layout(title=f\"RSI (Relative Strength Index) - {empresa_seleccionada}\", xaxis_title=\"Fecha\", yaxis_title=\"RSI\")\n",
    "    return fig\n",
    "\n",
    "# Ejecutar la aplicación en modo inline para Jupyter Notebook\n",
    "app.run_server(mode=\"inline\")\n"
   ]
  }
 ],
 "metadata": {
  "kernelspec": {
   "display_name": ".venv",
   "language": "python",
   "name": "python3"
  },
  "language_info": {
   "codemirror_mode": {
    "name": "ipython",
    "version": 3
   },
   "file_extension": ".py",
   "mimetype": "text/x-python",
   "name": "python",
   "nbconvert_exporter": "python",
   "pygments_lexer": "ipython3",
   "version": "3.12.3"
  }
 },
 "nbformat": 4,
 "nbformat_minor": 2
}
