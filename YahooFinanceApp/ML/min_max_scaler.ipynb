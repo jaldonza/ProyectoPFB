{
 "cells": [
  {
   "cell_type": "code",
   "execution_count": 1,
   "metadata": {},
   "outputs": [
    {
     "name": "stdout",
     "output_type": "stream",
     "text": [
      "Min-Max Scaler entrenado y guardado en 'min_max_scaler.pkl'\n"
     ]
    }
   ],
   "source": [
    "import pandas as pd\n",
    "from sklearn.preprocessing import MinMaxScaler\n",
    "import pickle\n",
    "from funciones import obtener_cotizaciones  # Asegúrate de que esta función esté implementada\n",
    "\n",
    "# Obtener el DataFrame de cotizaciones\n",
    "cotizaciones_df = obtener_cotizaciones()\n",
    "\n",
    "# Verificar si el DataFrame no está vacío\n",
    "if cotizaciones_df.empty:\n",
    "    print(\"El DataFrame de cotizaciones está vacío. Verifica los datos.\")\n",
    "else:\n",
    "    # Seleccionar columnas numéricas relevantes (e.g., precios de cierre)\n",
    "    datos_seleccionados = cotizaciones_df[['Close']]\n",
    "\n",
    "    # Crear el escalador y ajustarlo a los datos\n",
    "    scaler = MinMaxScaler()\n",
    "    scaler.fit(datos_seleccionados)\n",
    "\n",
    "    # Guardar el escalador en un archivo .pkl\n",
    "    with open(\"min_max_scaler.pkl\", \"wb\") as archivo:\n",
    "        pickle.dump(scaler, archivo)\n",
    "\n",
    "    print(\"Min-Max Scaler entrenado y guardado en 'min_max_scaler.pkl'\")\n"
   ]
  }
 ],
 "metadata": {
  "kernelspec": {
   "display_name": ".venv",
   "language": "python",
   "name": "python3"
  },
  "language_info": {
   "codemirror_mode": {
    "name": "ipython",
    "version": 3
   },
   "file_extension": ".py",
   "mimetype": "text/x-python",
   "name": "python",
   "nbconvert_exporter": "python",
   "pygments_lexer": "ipython3",
   "version": "3.12.3"
  }
 },
 "nbformat": 4,
 "nbformat_minor": 2
}
