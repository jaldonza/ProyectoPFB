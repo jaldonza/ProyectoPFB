{
 "cells": [
  {
   "cell_type": "code",
   "execution_count": 1,
   "metadata": {},
   "outputs": [
    {
     "name": "stderr",
     "output_type": "stream",
     "text": [
      "/var/folders/3l/2mfq68kd2m7_kpj_3qkpl1qw0000gn/T/ipykernel_57254/301477760.py:32: UserWarning: pandas only supports SQLAlchemy connectable (engine/connection) or database string URI or sqlite3 DBAPI2 connection. Other DBAPI2 objects are not tested. Please consider using SQLAlchemy.\n",
      "  df = pd.read_sql(query, connection)\n"
     ]
    },
    {
     "name": "stdout",
     "output_type": "stream",
     "text": [
      "Datos cargados correctamente desde la base de datos.\n",
      "Conjuntos de entrenamiento y prueba escalados guardados correctamente.\n"
     ]
    }
   ],
   "source": [
    "import pandas as pd\n",
    "import pymysql\n",
    "from sklearn.model_selection import train_test_split\n",
    "from sklearn.preprocessing import MinMaxScaler\n",
    "import pickle\n",
    "\n",
    "def obtener_datos_bbdd():\n",
    "    \"\"\"\n",
    "    Conecta a la base de datos y extrae los datos necesarios desde precios_historicos.\n",
    "\n",
    "    Retorno:\n",
    "        pd.DataFrame: Un DataFrame con los datos de precio_apertura, precio_cierre, \n",
    "                      maximo, minimo y volumen.\n",
    "    \"\"\"\n",
    "    try:\n",
    "        # Configuración de conexión\n",
    "        connection = pymysql.connect(\n",
    "            host=\"pfb.cp2wsq8yih32.eu-north-1.rds.amazonaws.com\",\n",
    "            user=\"admin\",\n",
    "            password=\"11jablum11\",\n",
    "            database=\"yfinance\",\n",
    "            port=3306\n",
    "        )\n",
    "        \n",
    "        # Consulta para extraer los datos\n",
    "        query = \"\"\"\n",
    "        SELECT precio_apertura, precio_cierre, maximo, minimo, volumen\n",
    "        FROM precios_historicos\n",
    "        \"\"\"\n",
    "        \n",
    "        # Cargar los datos en un DataFrame\n",
    "        df = pd.read_sql(query, connection)\n",
    "        print(\"Datos cargados correctamente desde la base de datos.\")\n",
    "        return df\n",
    "\n",
    "    except pymysql.MySQLError as e:\n",
    "        print(f\"Error al conectar a la base de datos: {e}\")\n",
    "        return pd.DataFrame()  # Retorna un DataFrame vacío en caso de error\n",
    "\n",
    "    finally:\n",
    "        if 'connection' in locals() and connection:\n",
    "            connection.close()\n",
    "\n",
    "# Obtener datos desde la base de datos\n",
    "datos = obtener_datos_bbdd()\n",
    "\n",
    "# Verificar si se obtuvieron datos\n",
    "if datos.empty:\n",
    "    print(\"No se obtuvieron datos desde la base de datos. Revisa la conexión o la consulta.\")\n",
    "else:\n",
    "    # Dividir los datos en conjuntos de entrenamiento y prueba\n",
    "    X_train, X_test = train_test_split(datos, test_size=0.2, random_state=42)\n",
    "\n",
    "    # Crear el escalador\n",
    "    scaler = MinMaxScaler()\n",
    "\n",
    "    # Ajustar el escalador solo con el conjunto de entrenamiento\n",
    "    scaler.fit(X_train)\n",
    "\n",
    "    # Escalar los datos\n",
    "    X_train_scaled = scaler.transform(X_train)\n",
    "    X_test_scaled = scaler.transform(X_test)\n",
    "\n",
    "    # Convertir los datos escalados a DataFrames para mantener claridad\n",
    "    columnas = ['precio_apertura', 'precio_cierre', 'maximo', 'minimo', 'volumen']\n",
    "    X_train_scaled = pd.DataFrame(X_train_scaled, columns=columnas, index=X_train.index)\n",
    "    X_test_scaled = pd.DataFrame(X_test_scaled, columns=columnas, index=X_test.index)\n",
    "\n",
    "    # Guardar el conjunto de entrenamiento escalado en un archivo .pkl\n",
    "    with open(\"X_train_scaled.pkl\", \"wb\") as archivo:\n",
    "        pickle.dump(X_train_scaled, archivo)\n",
    "\n",
    "    # Guardar el conjunto de prueba escalado en un archivo .pkl\n",
    "    with open(\"X_test_scaled.pkl\", \"wb\") as archivo:\n",
    "        pickle.dump(X_test_scaled, archivo)\n",
    "\n",
    "    print(\"Conjuntos de entrenamiento y prueba escalados guardados correctamente.\")\n",
    "\n",
    "\n"
   ]
  },
  {
   "cell_type": "code",
   "execution_count": 3,
   "metadata": {},
   "outputs": [],
   "source": [
    "from funciones import obtener_cotizaciones\n",
    "cotizaciones_df = obtener_cotizaciones()"
   ]
  },
  {
   "cell_type": "code",
   "execution_count": 4,
   "metadata": {},
   "outputs": [
    {
     "data": {
      "text/html": [
       "<div>\n",
       "<style scoped>\n",
       "    .dataframe tbody tr th:only-of-type {\n",
       "        vertical-align: middle;\n",
       "    }\n",
       "\n",
       "    .dataframe tbody tr th {\n",
       "        vertical-align: top;\n",
       "    }\n",
       "\n",
       "    .dataframe thead th {\n",
       "        text-align: right;\n",
       "    }\n",
       "</style>\n",
       "<table border=\"1\" class=\"dataframe\">\n",
       "  <thead>\n",
       "    <tr style=\"text-align: right;\">\n",
       "      <th></th>\n",
       "      <th>Date</th>\n",
       "      <th>Close</th>\n",
       "      <th>Company</th>\n",
       "    </tr>\n",
       "  </thead>\n",
       "  <tbody>\n",
       "    <tr>\n",
       "      <th>0</th>\n",
       "      <td>2000-01-03</td>\n",
       "      <td>19.8138</td>\n",
       "      <td>3M Company</td>\n",
       "    </tr>\n",
       "    <tr>\n",
       "      <th>1</th>\n",
       "      <td>2000-01-04</td>\n",
       "      <td>19.0265</td>\n",
       "      <td>3M Company</td>\n",
       "    </tr>\n",
       "    <tr>\n",
       "      <th>2</th>\n",
       "      <td>2000-01-05</td>\n",
       "      <td>19.5776</td>\n",
       "      <td>3M Company</td>\n",
       "    </tr>\n",
       "    <tr>\n",
       "      <th>3</th>\n",
       "      <td>2000-01-06</td>\n",
       "      <td>21.1523</td>\n",
       "      <td>3M Company</td>\n",
       "    </tr>\n",
       "    <tr>\n",
       "      <th>4</th>\n",
       "      <td>2000-01-07</td>\n",
       "      <td>21.5721</td>\n",
       "      <td>3M Company</td>\n",
       "    </tr>\n",
       "  </tbody>\n",
       "</table>\n",
       "</div>"
      ],
      "text/plain": [
       "         Date    Close     Company\n",
       "0  2000-01-03  19.8138  3M Company\n",
       "1  2000-01-04  19.0265  3M Company\n",
       "2  2000-01-05  19.5776  3M Company\n",
       "3  2000-01-06  21.1523  3M Company\n",
       "4  2000-01-07  21.5721  3M Company"
      ]
     },
     "execution_count": 4,
     "metadata": {},
     "output_type": "execute_result"
    }
   ],
   "source": [
    "cotizaciones_df.head()"
   ]
  }
 ],
 "metadata": {
  "kernelspec": {
   "display_name": ".venv",
   "language": "python",
   "name": "python3"
  },
  "language_info": {
   "codemirror_mode": {
    "name": "ipython",
    "version": 3
   },
   "file_extension": ".py",
   "mimetype": "text/x-python",
   "name": "python",
   "nbconvert_exporter": "python",
   "pygments_lexer": "ipython3",
   "version": "3.12.3"
  }
 },
 "nbformat": 4,
 "nbformat_minor": 2
}
